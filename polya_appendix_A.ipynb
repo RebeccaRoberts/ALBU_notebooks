{
 "cells": [
  {
   "cell_type": "markdown",
   "metadata": {},
   "source": [
    "# A simple graphical model containing Dirichlet, Polya (Dirichlet-Multinomial) and categorical distributions\n"
   ]
  },
  {
   "cell_type": "code",
   "execution_count": 1,
   "metadata": {},
   "outputs": [],
   "source": [
    "# %matplotlib inline \n",
    "import numpy as np\n",
    "import scipy as sc\n",
    "from matplotlib import pylab as plt\n",
    "from matplotlib import rc, rcParams\n",
    "from scipy.special import gamma\n",
    "from scipy import integrate\n"
   ]
  },
  {
   "cell_type": "markdown",
   "metadata": {},
   "source": [
    "\n",
    "### Change the following to simulate various combinations of Dirichlet and Categorical distributions\n"
   ]
  },
  {
   "cell_type": "markdown",
   "metadata": {},
   "source": [
    "We can change the following parameters:  \n",
    "1) The 'a' array contains the $\\alpha$ values for the Dirichlet prior - determining the message from the Dirichlet towards the Polya. In the 2D case we have $[\\alpha_1, \\alpha_2]$ and in general $[\\alpha_1,...,\\alpha_k,...\\alpha_K]$\n",
    "2) The 'pZ' array contains the distribution over $Z$ assumed to be passed back from beyond the Polya towards the Polya. In the 2D case we have $[p_1, p_2]$ and in general $[p_1,...,p_k,...p_K]$\n",
    "\n",
    "\n",
    "Note: 'ac' and 'capZ', they are automatically generated normalisation constants dependent on the above. \n"
   ]
  },
  {
   "cell_type": "code",
   "execution_count": 2,
   "metadata": {},
   "outputs": [
    {
     "name": "stdout",
     "output_type": "stream",
     "text": [
      "Current Dirichlet parameters:\n",
      "[0.6 0.4]\n",
      "Current proportions from neighbouring cluster:\n",
      "[0.1 0.9]\n"
     ]
    }
   ],
   "source": [
    "N = 1 # used to simulate message passing after multiple epocs (1 is for initial case)\n",
    "pZ = np.array([0.1, 0.9]) # distribution (incoming from right) p(Z|W=v)\n",
    "a = np.array([0.6, 0.4])  # distribution (incoming from left) p(theta;alpha)\n",
    "\n",
    "a *= N\n",
    "print(\"Current Dirichlet parameters:\")\n",
    "print(a)\n",
    "print(\"Current proportions from neighbouring cluster:\")\n",
    "print(pZ)"
   ]
  },
  {
   "cell_type": "markdown",
   "metadata": {},
   "source": [
    "### Constants and vectors for sampling\n",
    "\n"
   ]
  },
  {
   "cell_type": "markdown",
   "metadata": {},
   "source": [
    "\n",
    "The constants 'ac' and 'capZ' are automatically generated normalisation constants:\n",
    "* 'ac' is a constant defined in dissertation as: $c = \\frac{\\Gamma(\\sum_j\\alpha_j)}{\\prod_j\\Gamma(\\alpha_j)}$\n",
    "* 'capZ' is the constant constant: $d = \\frac{\\sum_jp_j\\alpha_j}{\\sum_j\\alpha_j}$\n"
   ]
  },
  {
   "cell_type": "code",
   "execution_count": 3,
   "metadata": {},
   "outputs": [],
   "source": [
    "# normalisation (don't edit)\n",
    "ac = gamma(np.sum(a))/np.prod(gamma(a))\n",
    "capZ = pZ.dot(a)/sum(a)\n"
   ]
  },
  {
   "cell_type": "markdown",
   "metadata": {},
   "source": [
    "We use 'q0' and 'q1' for sampling of the probs $\\theta_1$ and $\\theta_2$:\n"
   ]
  },
  {
   "cell_type": "code",
   "execution_count": 4,
   "metadata": {},
   "outputs": [],
   "source": [
    "# sampling (don't edit)\n",
    "q1 = np.linspace(5E-5,1.-5E-5,1000)\n",
    "q0 = 1. - q1\n"
   ]
  },
  {
   "cell_type": "markdown",
   "metadata": {},
   "source": [
    "### The Dirichlet distribution $p(\\boldsymbol{\\theta};\\boldsymbol{\\alpha})$"
   ]
  },
  {
   "cell_type": "markdown",
   "metadata": {},
   "source": [
    "The message originally sent by the Dirichlet cluster (used to construct the Polya distribution):\n",
    "\n",
    "   $p(\\theta_{1} \\ldots \\theta_{K} ; \\alpha_{1} \\ldots \\alpha_{K}) = \\text{Dir}({\\theta};{\\alpha})  = \\frac{\\Gamma(\\sum_j\\alpha_j)}{\\prod_j\\Gamma(\\alpha_j)}\\prod_{j}\\theta_j^{\\alpha_k-1}$.\n",
    "   \n"
   ]
  },
  {
   "cell_type": "code",
   "execution_count": 16,
   "metadata": {},
   "outputs": [
    {
     "data": {
      "image/png": "[encoded data removed]",
      "text/plain": [
       "<Figure size 432x288 with 1 Axes>"
      ]
     },
     "metadata": {
      "needs_background": "light"
     },
     "output_type": "display_data"
    }
   ],
   "source": [
    "# the Dirichlet distribution\n",
    "f = ac*np.power(q0,a[0]-1.)*(np.power(q1,a[1]-1.))\n",
    "\n",
    "plt.plot(q1,f, label = r'$p(\\theta_2;\\boldsymbol{\\alpha})$',color='orange')\n",
    "plt.plot(q0,f, label = r'$p(\\theta_1;\\boldsymbol{\\alpha})$',color='blue')\n",
    "plt.rc('text', usetex=True)\n",
    "# plt.rcParams['text.latex.preamble']=[r\"\\usepackage{amsmath}\"]\n",
    "plt.xlabel(r'$\\theta_2$ \\hspace{5mm} (with $\\theta_1 = 1-\\theta_2$)',fontsize=16)\n",
    "plt.ylabel(r'$p({\\theta_2};\\boldsymbol{\\alpha})$',\n",
    "          fontsize=16)\n",
    "plt.legend()\n",
    "plt.grid()\n",
    "plt.ylim(0.0, 4.0)\n",
    "plt.savefig('dirichud.pdf')\n",
    "plt.show()\n"
   ]
  },
  {
   "cell_type": "markdown",
   "metadata": {},
   "source": [
    "### The Polya distribution $p(Z,\\boldsymbol{\\theta};\\boldsymbol{\\alpha})$\n",
    "\n"
   ]
  },
  {
   "cell_type": "markdown",
   "metadata": {},
   "source": [
    "Initial Polya distirbution: constructed by multiplying the initial Dirichlet distribution by a flat categorical distribution:\n",
    "\n",
    "\n",
    "$p(Z_{},{\\boldsymbol{\\theta}};{\\boldsymbol{\\alpha}})=\\frac{\\Gamma(\\sum_j\\alpha^{}_{j})}{\\prod_{j}\\Gamma(\\alpha^{}_{j})} \\prod_{j}\\theta_{j}^{\\mathbb{[}Z_{}=j\\mathbb{]}+\\alpha^{}_{j}-1}$\n",
    "\n",
    "also written as:\n",
    "\n",
    "\n",
    "$p(Z_{},\\boldsymbol{\\theta};\\boldsymbol{\\alpha})=\\frac{\\Gamma(\\sum_j\\alpha^{}_{j})}{\\prod_{j}\\Gamma(\\alpha^{}_{j})} \\prod_{j}\\theta_{j}^{\\mathbb{[}Z_{}=j\\mathbb{]}}\\theta_{j}^{\\alpha^{}_{j}-1}$\n",
    "\n",
    "which is more in line with how it is coded below."
   ]
  },
  {
   "cell_type": "code",
   "execution_count": 6,
   "metadata": {},
   "outputs": [],
   "source": [
    "# the Polya distribution\n",
    "f0 = ac*(np.power(q0,a[0]))*(np.power(q1,a[1]-1.))\n",
    "f1 = ac*(np.power(q1,a[1]))*np.power(q0,a[0]-1.)\n"
   ]
  },
  {
   "cell_type": "markdown",
   "metadata": {},
   "source": [
    "### The Categorical distribution used to modify the Poly distribution $p(Z|\\boldsymbol{p})$"
   ]
  },
  {
   "cell_type": "markdown",
   "metadata": {},
   "source": [
    "The message sent by the cluster to the right of the Polya, to the Polya cluster:\n",
    "\n",
    "$\n",
    "  p(Z|\\boldsymbol{p})\n",
    "  = \\left\\{\n",
    "  \\begin{array}{lr}\n",
    "    p_{{1}},  && \\text{where }  Z = 1\\\\\n",
    "    \\vdots\\\\\n",
    "    p_{{K}},  && \\text{where }  Z = K\n",
    "  \\end{array}\n",
    "  \\right.$\n",
    "  \n",
    " or,\n",
    " \n",
    "  $p(Z|\\boldsymbol{p}) = \\prod_{j} p_j^{[Z=j]}$\n"
   ]
  },
  {
   "cell_type": "code",
   "execution_count": 7,
   "metadata": {},
   "outputs": [
    {
     "data": {
      "image/png": "[encoded data removed]",
      "text/plain": [
       "<Figure size 432x288 with 1 Axes>"
      ]
     },
     "metadata": {
      "needs_background": "light"
     },
     "output_type": "display_data"
    }
   ],
   "source": [
    "plt.figure(3)\n",
    "pZlab = [r'$p_1$', r'$p_2$']\n",
    "\n",
    "plt.rc('text', usetex=True)\n",
    "plt.bar(pZlab,pZ)\n",
    "plt.ylabel(r'$p(Z|\\boldsymbol{p})$',fontsize=16)\n",
    "plt.grid()\n",
    "plt.ylim(0.0, 1.0)\n",
    "plt.savefig('cat.pdf')\n",
    "plt.show()\n"
   ]
  },
  {
   "cell_type": "markdown",
   "metadata": {},
   "source": [
    "### The updated Polya distribution $p(Z,\\boldsymbol{\\theta}|\\boldsymbol{p},\\boldsymbol{\\alpha})$ \n"
   ]
  },
  {
   "cell_type": "markdown",
   "metadata": {},
   "source": [
    "Updated Polya distirbution constructed by multiplying new categorical in and the old (flat) one out:\n",
    "\n",
    "$p(Z,\\boldsymbol{\\boldsymbol{\\theta}}|W=\\mathsf{v},\\boldsymbol{\\alpha}) = \\left\\{\n",
    "  \\begin{array}{lr}\n",
    "    \\frac{p_1}{d} \\frac{\\Gamma(\\sum_j\\alpha_j)}{\\prod_j\\Gamma(\\alpha_j)}\\prod_j \\theta_j^{[j={1}]+\\alpha_j-1},  && \\text{where }  Z = 1\\\\\\\\\n",
    "    \\vdots\\\\\n",
    "    \\frac{p_K}{d} \\frac{\\Gamma(\\sum_j\\alpha_j)}{\\prod_j\\Gamma(\\alpha_j)}\\prod_j \\theta_j^{[j={K}]+\\alpha_j-1},  && \\text{where }  Z = K\\\\ \n",
    "  \\end{array}\n",
    "  \\right.$\n",
    "  \n",
    "  with $d$ for normalisation as  $d = \\frac{\\sum_jp_j\\alpha_j}{\\sum_j\\alpha_j}$ \n",
    " "
   ]
  },
  {
   "cell_type": "code",
   "execution_count": 8,
   "metadata": {},
   "outputs": [],
   "source": [
    "# the updated Polya distribution\n",
    "f0updated = (1/capZ)*pZ[0]*ac*np.power(q0,a[0])*(np.power(q1,a[1]-1.))\n",
    "f1updated = (1/capZ)*pZ[1]*ac*np.power(q0,a[0]-1.)*(np.power(q1,a[1]))\n",
    "\n",
    "# The *** true posterior marginal *** after we sum out Z (p)\n",
    "fP = f0updated+f1updated\n"
   ]
  },
  {
   "cell_type": "markdown",
   "metadata": {},
   "source": [
    "### Detemining the approximate Posterior $p(\\theta|p,\\alpha)$\n",
    "\n"
   ]
  },
  {
   "cell_type": "code",
   "execution_count": 9,
   "metadata": {},
   "outputs": [
    {
     "name": "stdout",
     "output_type": "stream",
     "text": [
      "area1Q= 1.1182369508702221\n",
      "area2Q= 1.0\n"
     ]
    },
    {
     "data": {
      "image/png": "[encoded data removed]",
      "text/plain": [
       "<Figure size 432x288 with 1 Axes>"
      ]
     },
     "metadata": {
      "needs_background": "light"
     },
     "output_type": "display_data"
    }
   ],
   "source": [
    "prod = a*pZ;\n",
    "prod /= np.sum(prod) # renormalise\n",
    "\n",
    "post = prod+a\n",
    "\n",
    "# normalising\n",
    "capost = gamma(np.sum(post))/np.prod(gamma(post))\n",
    "\n",
    "# the approximated posterior (q), before dividing out the incoming Dirichlet.\n",
    "fQ =np.power(q0,post[0]-1.)*(np.power(q1,post[1]-1.))\n",
    "\n",
    "# check it via numerical integration\n",
    "area = sc.integrate.simps(fQ, q1, dx=1, axis=-1, even='avg')\n",
    "print('area1Q=',area)\n",
    "fQ /= area;\n",
    "area = sc.integrate.simps(fQ, q1, dx=1, axis=-1, even='avg')\n",
    "print('area2Q=',area)\n",
    "\n",
    "plt.figure(5)\n",
    "truePost,= plt.plot(q1,fP,label='True posterior', color=\"blue\")\n",
    "estPost,= plt.plot(q1,fQ,label='Estimated posterior', color=\"green\")\n",
    "plt.rc('text', usetex=True)\n",
    "plt.xlabel(r'$\\theta_2$ \\hspace{5mm} (with $\\theta_1 = 1-\\theta_2$)',fontsize=16)\n",
    "plt.ylabel(r'$p(\\theta_2|\\boldsymbol{\\alpha},\\boldsymbol{p})$',\n",
    "          fontsize=16)\n",
    "plt.legend(handles=[truePost, estPost])\n",
    "plt.ylim((0,7))\n",
    "plt.grid()\n",
    "plt.savefig('postud.pdf')\n",
    "plt.show()\n"
   ]
  },
  {
   "cell_type": "markdown",
   "metadata": {},
   "source": [
    "In the following we determine what, ideally, the message returning from the Polya cluster towards the Dirichlet cluster should look like.\n",
    "If we divide by the message that originally came from the Dirichlet cluster, $p(\\boldsymbol{\\theta};\\boldsymbol{\\alpha})$,this should give us the 'true' message to send from the Polya to the Dirichlet cluster. Interestingly it is linear!"
   ]
  },
  {
   "cell_type": "code",
   "execution_count": 10,
   "metadata": {},
   "outputs": [
    {
     "data": {
      "image/png": "[encoded data removed]",
      "text/plain": [
       "<Figure size 432x288 with 1 Axes>"
      ]
     },
     "metadata": {
      "needs_background": "light"
     },
     "output_type": "display_data"
    }
   ],
   "source": [
    "\n",
    "plt.plot(q1,fP/f)\n",
    "plt.grid()\n",
    "plt.show()\n"
   ]
  },
  {
   "cell_type": "markdown",
   "metadata": {},
   "source": [
    "We can now work backwards to see what the message should have been to create the posterior (we can divide out the original Dirichlet).\n",
    "Note the $-1$'s below:\n",
    "\n",
    "  $\\frac{p({\\theta}; {\\alpha})}{p({\\theta}; {\\beta})}= \\frac{\\Gamma(\\sum_j \\alpha_j)\\prod_{j}\\Gamma(\\beta_j)}{\\Gamma(\\sum_j \\beta_j)\\prod_{j}\\Gamma(\\alpha_j)}\n",
    "  \\prod_{j}\\theta_j^{(\\alpha_j-1) - (\\beta_j-1)}$"
   ]
  },
  {
   "cell_type": "code",
   "execution_count": 11,
   "metadata": {},
   "outputs": [
    {
     "data": {
      "image/png": "[encoded data removed]",
      "text/plain": [
       "<Figure size 432x288 with 1 Axes>"
      ]
     },
     "metadata": {
      "needs_background": "light"
     },
     "output_type": "display_data"
    }
   ],
   "source": [
    "# original Dirichlet (to divide out)\n",
    "f = ac*np.power(q0,a[0]-1.)*(np.power(q1,a[1]-1.))\n",
    "\n",
    "# the message (posterior / original Dirichlet)\n",
    "fQmessage = (1/ac)*capost*np.power(q0,post[0]-1.-(a[0]-1))*(np.power(q1,post[1]-1.-(a[1]-1.)))\n",
    "m_pd = fP/f\n",
    "\n",
    "plt.figure(5)\n",
    "estPostmsg,= plt.plot(q1,fQmessage,label='Estimated message', color=\"green\")\n",
    "Postmsgtrue,= plt.plot(q1,fP/f,label='True message', color=\"blue\")\n",
    "plt.rc('text', usetex=True)\n",
    "plt.xlabel(r'$\\theta_1$ \\hspace{5mm} (with $\\theta_2 = 1-\\theta_2$)',fontsize=16)\n",
    "plt.ylabel(r'$p(\\theta_2|\\boldsymbol{\\alpha},\\boldsymbol{p})$',\n",
    "          fontsize=16)\n",
    "plt.legend(handles=[estPostmsg,Postmsgtrue])\n",
    "plt.ylim((0,7))\n",
    "plt.grid()\n",
    "plt.savefig('approxvsrealud.pdf')\n",
    "plt.show()\n"
   ]
  },
  {
   "cell_type": "markdown",
   "metadata": {},
   "source": [
    "### Using KLD to check performance of approximation\n",
    "\n"
   ]
  },
  {
   "cell_type": "code",
   "execution_count": 15,
   "metadata": {},
   "outputs": [
    {
     "data": {
      "image/png": "[encoded data removed]",
      "text/plain": [
       "<Figure size 432x288 with 1 Axes>"
      ]
     },
     "metadata": {
      "needs_background": "light"
     },
     "output_type": "display_data"
    }
   ],
   "source": [
    "# Approximates KL divergence for 1-D continuous p and q by using numerical integration. \n",
    "# Both p and q are continuous probability distributions over RV X. \n",
    "# We only know their values at sampled points x.\n",
    "def kl1_cont(p,q,x):\n",
    "    K = len(p)\n",
    "    theProd = np.zeros(K)\n",
    "    for k in range(0,K):\n",
    "        if p[k] > 0.0:\n",
    "            theProd[k] = p[k]*np.log(p[k]/q[k])\n",
    "    return integrate.simps(theProd, x, dx=1, axis=-1, even='avg')\n",
    "\n",
    "\n",
    "del_a = np.linspace(-0.25,0.28,100)\n",
    "div = np.zeros(len(del_a))\n",
    "div2 = np.zeros(len(del_a))\n",
    "\n",
    "for k in range( len(del_a) ):\n",
    "  \n",
    "    # the alphas passed from the polya to the dirichlet, excluding the incoming dirichlet\n",
    "    aa = a*pZ;\n",
    "    aa /= np.sum(aa) # renormalize since it is only one observation\n",
    "    aa += a\n",
    "\n",
    "    # change both alphas by del_a[k]\n",
    "    aa[0] += del_a[k]\n",
    "    aa[1] -= del_a[k]\n",
    "\n",
    "    caa = gamma(np.sum(aa))/np.prod(gamma(aa))\n",
    "\n",
    "    # *** the approximated posterior (q) **, before dividing out the incoming Dirichlet.\n",
    "    fQ = caa*np.power(q0,aa[0]-1.)*(np.power(q1,aa[1]-1.))\n",
    "    # check it via numerical integration\n",
    "    area = sc.integrate.simps(fQ, q1, dx=1, axis=-1, even='avg')\n",
    "    fQ /= area; # renormalize for the sake of simpson's rule\n",
    "    area = sc.integrate.simps(fQ, q1, dx=1, axis=-1, even='avg')\n",
    "\n",
    "    div[k] = kl1_cont(fQ,fP,q1)\n",
    "    div2[k] = kl1_cont(fP,fQ,q1)\n",
    "\n",
    "# plt.plot(del_a,div,label=r'$KL(Q,P)$', color = \"orange\") \n",
    "plt.rc('text', usetex=True)\n",
    "plt.xlabel(r'Change in $\\boldsymbol{\\alpha}$',fontsize=16)\n",
    "plt.plot(del_a,div2,label=r'$KL(P,Q)$', color = \"blue\")   \n",
    "plt.ylabel('KLD',\n",
    "          fontsize=16)\n",
    "# plt.title(r'KL divergences vs delta alpha',fontsize=16)\n",
    "# plt.title(r'Posterior KLs with $\\alpha=\\{$%s, %s$\\}, p_x=\\{$%s, %s$\\}$'%(a[0],a[1],pX[0],pX[1]),fontsize=18)\n",
    "plt.legend()\n",
    "plt.grid()\n",
    "plt.savefig('KLD_EGud.pdf')\n",
    "\n",
    "plt.show()\n"
   ]
  }
 ],
 "metadata": {
  "kernelspec": {
   "display_name": "Python 3",
   "language": "python",
   "name": "python3"
  },
  "language_info": {
   "codemirror_mode": {
    "name": "ipython",
    "version": 3
   },
   "file_extension": ".py",
   "mimetype": "text/x-python",
   "name": "python",
   "nbconvert_exporter": "python",
   "pygments_lexer": "ipython3",
   "version": "3.7.9"
  }
 },
 "nbformat": 4,
 "nbformat_minor": 4
}
