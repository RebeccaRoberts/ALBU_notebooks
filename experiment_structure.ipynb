{
 "cells": [
  {
   "cell_type": "markdown",
   "id": "exact-monaco",
   "metadata": {},
   "source": [
    "# Exploring the structure of an Experiment"
   ]
  },
  {
   "cell_type": "code",
   "execution_count": 1,
   "id": "complete-machine",
   "metadata": {},
   "outputs": [],
   "source": [
    "import sys, os \n",
    "import numpy as np\n",
    "from matplotlib import pyplot as plt\n",
    "from local_utils import get_experiment_group_kl_dict, get_experiment_group_kl_dict_vmp, get_experiment_group_dict\n"
   ]
  },
  {
   "cell_type": "markdown",
   "id": "modern-national",
   "metadata": {},
   "source": [
    "### Load all relevant files linked to an experiment (in this case VMP), with a n_doc_list "
   ]
  },
  {
   "cell_type": "code",
   "execution_count": 2,
   "id": "electric-speaking",
   "metadata": {},
   "outputs": [],
   "source": [
    "experiment_number = 18\n",
    "n_doc_list = [100]\n",
    "nr = 0\n",
    "experiment_group1 = get_experiment_group_dict(experiment_number, n_doc_list, path_to_experiment=r\"experiments_saved/0101_priors/experiment_vmp_\")\n"
   ]
  },
  {
   "cell_type": "code",
   "execution_count": 3,
   "id": "measured-webcam",
   "metadata": {},
   "outputs": [
    {
     "data": {
      "text/plain": [
       "dict_keys([100])"
      ]
     },
     "execution_count": 3,
     "metadata": {},
     "output_type": "execute_result"
    }
   ],
   "source": [
    "experiment_group1.keys()"
   ]
  },
  {
   "cell_type": "markdown",
   "id": "simplified-segment",
   "metadata": {},
   "source": [
    "These are all the keys - we will now explain what each one is and how to use it."
   ]
  },
  {
   "cell_type": "code",
   "execution_count": 4,
   "id": "greenhouse-voltage",
   "metadata": {},
   "outputs": [
    {
     "data": {
      "text/plain": [
       "array([['topic_word_ndarray_list_vmp'],\n",
       "       ['doc_topic_array_list_vmp'],\n",
       "       ['kl_list_list_vmp'],\n",
       "       ['texts_list'],\n",
       "       ['corpus_list'],\n",
       "       ['dictlist'],\n",
       "       ['kl_words_in_topics'],\n",
       "       ['kl_words_in_topics_actual_list'],\n",
       "       ['kl_list_list'],\n",
       "       ['dirichelt_list_list'],\n",
       "       ['topics_per_doc'],\n",
       "       ['number_of_docs'],\n",
       "       ['total_topics'],\n",
       "       ['words_per_doc'],\n",
       "       ['total_vocab'],\n",
       "       ['weightingfactor'],\n",
       "       ['tag'],\n",
       "       ['dont_remake'],\n",
       "       ['laplace'],\n",
       "       ['emdw'],\n",
       "       ['iterations'],\n",
       "       ['default_betas_word_topic'],\n",
       "       ['default_alphas_topic_doc'],\n",
       "       ['epochs_emdw'],\n",
       "       ['full'],\n",
       "       ['vmp_type'],\n",
       "       ['vmp_epocs'],\n",
       "       ['default_betas_word_topic_vmp'],\n",
       "       ['default_alphas_topic_doc_vmp']], dtype='<U30')"
      ]
     },
     "execution_count": 4,
     "metadata": {},
     "output_type": "execute_result"
    }
   ],
   "source": [
    "np.array(list(experiment_group1[n_doc_list[nr]].keys())).reshape(-1,1)"
   ]
  },
  {
   "cell_type": "markdown",
   "id": "united-bench",
   "metadata": {},
   "source": [
    "The first bunch of these guys come from where simlda is run (where docs are generated) and albu is run:"
   ]
  },
  {
   "cell_type": "raw",
   "id": "acceptable-vector",
   "metadata": {},
   "source": [
    "albu_input = {\n",
    "    \"topics_per_doc\" : topics_per_doc,  # The number of topics per doc (value is one less than actual number of topics)\n",
    "    \"number_of_docs\" : number_of_docs,  # The number of documents\n",
    "    \"total_topics\" : total_topics,  # The number of topics per doc (value is one less than actual number of topics)\n",
    "    \"words_per_doc\" : words_per_doc,  # The number of words per doc (the actual number will be a bit more due to stop words) \n",
    "    \"total_vocab\" : total_vocab, # The number of words in entire corpus (the actual number will be a bit more due to stop words) \n",
    "    \"weightingfactor\" : weightingfactor,  # This allows us to change the width of the topic-word distributions\n",
    "    \"tag\" : \"api\",  # Use this how you like\n",
    "    \"dont_remake\" : 0,  # Depricated\n",
    "    \"laplace\" : laplace,  # True if laplace topic-word distributions are to be used\n",
    "    \"emdw\" : emdw,  # True default to actually run ALBU\n",
    "    \"iterations\": n_iters,  # number of iterations (not epochs) default 30 - 50\n",
    "    \"default_betas_word_topic\": default_betas_word_topic,  # prior\n",
    "    \"default_alphas_topic_doc\": default_alphas_topic_doc,  # prior\n",
    "    \"epochs_emdw\": epochs,  # epochs default 100\n",
    "    \"full\": albu  # full albu or another variant (True/False)\n",
    "}"
   ]
  },
  {
   "cell_type": "markdown",
   "id": "lucky-charles",
   "metadata": {},
   "source": [
    "Second bunch are ALBU results:"
   ]
  },
  {
   "cell_type": "raw",
   "id": "received-upset",
   "metadata": {},
   "source": [
    "albu_result = {'texts_list': texts_list,  # From SIMLDA - this is the actual list of texts used for this experiment group\n",
    "          'corpus_list': corpus_list,  # Same thing, other format\n",
    "          'dictlist': dictlist,  # Gensim dict (needed for coherence)\n",
    "          'kl_words_in_topics': kl_words_in_topics,  # Original distributions (topic-word)\n",
    "          \"kl_words_in_topics_actual_list\": kl_words_in_topics_actual_list,  # Calculated distributions per iter (final)\n",
    "          \"kl_list_list\": kl_list_list, # AVG KLDs of distributions per epoch per iter\n",
    "          \"dirichelt_list_list\": dirichelt_list_list  # Calculated distributions per epoch per iter (topic-word)\n",
    "          }"
   ]
  },
  {
   "cell_type": "markdown",
   "id": "unavailable-listening",
   "metadata": {},
   "source": [
    "Third bunch is inputs to VMP/ Gensim:"
   ]
  },
  {
   "cell_type": "raw",
   "id": "veterinary-landscape",
   "metadata": {},
   "source": [
    "vmp_input = {\n",
    "    \"vmp_type\": vmp_type,  # Default: \"LBU messages\"\n",
    "    \"vmp_epocs\": vmp_epocs,  # Default 100\n",
    "    \"default_betas_word_topic_vmp\": default_betas_word_topic,  # Inherits from ALBU settings if populated\n",
    "    \"default_alphas_topic_doc_vmp\": default_alphas_topic_doc  # Inherits from ALBU settings if populated\n",
    "}\n",
    "\n",
    "OR\n",
    "\n",
    "gensim_input = {\n",
    "    \"gensim_epocs\": gensim_epocs,  # Default 100\n",
    "    \"default_betas_word_topic_gensim\": default_betas_word_topic,  # Inherits from ALBU settings if populated\n",
    "    \"default_alphas_topic_doc_gensim\": default_alphas_topic_doc  # Inherits from ALBU settings if populated\n",
    "}"
   ]
  },
  {
   "cell_type": "markdown",
   "id": "documented-gates",
   "metadata": {},
   "source": [
    "Fourth bunch are results from VMP/Gensim:"
   ]
  },
  {
   "cell_type": "raw",
   "id": "amazing-grant",
   "metadata": {},
   "source": [
    "vmp_result = {\"topic_word_ndarray_list_vmp\": topic_word_ndarray_list,   \n",
    "          \"doc_topic_array_list_vmp\": doc_topic_array_list,\n",
    "          \"kl_list_list_vmp\": kl_list_list,\n",
    "          \"doc_topic_array_list_list_vmp\": doc_topic_array_list_list_vmp,\n",
    "          \"topic_word_ndarray_list_list_vmp\": topic_word_ndarray_list_list_vmp}"
   ]
  },
  {
   "cell_type": "markdown",
   "id": "every-remedy",
   "metadata": {},
   "source": [
    "## VMP Results"
   ]
  },
  {
   "cell_type": "markdown",
   "id": "patent-shape",
   "metadata": {},
   "source": [
    "#### topic_word_ndarray_list_vmp:\n",
    "This guy is used ALOT. It is a list (one per iteration of the full LDA run) of 2d np arrays. Each Dimetion is for the topic and the other dimension is for each Word. Lets start at the middle (one normalized Dirichelt).\n"
   ]
  },
  {
   "cell_type": "markdown",
   "id": "opposed-there",
   "metadata": {},
   "source": [
    "This is as sample from one Dirichlet (for one topic-word distribution:\n",
    "\n"
   ]
  },
  {
   "cell_type": "code",
   "execution_count": 5,
   "id": "mexican-punch",
   "metadata": {},
   "outputs": [
    {
     "data": {
      "text/plain": [
       "array([8.89838454e+01, 6.99844126e+01, 4.09794227e+01, 4.09885716e+01,\n",
       "       2.07640021e+01, 1.93259674e+01, 7.84827464e+00, 6.98306152e-03,\n",
       "       1.58672939e-02, 1.91157404e-02])"
      ]
     },
     "execution_count": 5,
     "metadata": {},
     "output_type": "execute_result"
    }
   ],
   "source": [
    "experiment_group1[n_doc_list[nr]]['topic_word_ndarray_list_vmp'][0][0][0:10]"
   ]
  },
  {
   "cell_type": "markdown",
   "id": "eligible-tracker",
   "metadata": {},
   "source": [
    "Its length is:\n"
   ]
  },
  {
   "cell_type": "code",
   "execution_count": 6,
   "id": "british-thailand",
   "metadata": {},
   "outputs": [
    {
     "data": {
      "text/plain": [
       "106"
      ]
     },
     "execution_count": 6,
     "metadata": {},
     "output_type": "execute_result"
    }
   ],
   "source": [
    " len(experiment_group1[n_doc_list[nr]]['topic_word_ndarray_list_vmp'][0][0]) "
   ]
  },
  {
   "cell_type": "markdown",
   "id": "anonymous-voice",
   "metadata": {},
   "source": [
    "because there are also some extra words added (stop word type things)"
   ]
  },
  {
   "cell_type": "markdown",
   "id": "equipped-oklahoma",
   "metadata": {},
   "source": [
    "This is how many Dirichelts there are becuase this is how many topics there are:\n",
    "Note that one topic is the extra funny stop-word / common word topic\n"
   ]
  },
  {
   "cell_type": "code",
   "execution_count": 7,
   "id": "affected-stand",
   "metadata": {},
   "outputs": [
    {
     "data": {
      "text/plain": [
       "7"
      ]
     },
     "execution_count": 7,
     "metadata": {},
     "output_type": "execute_result"
    }
   ],
   "source": [
    "len(experiment_group1[n_doc_list[nr]]['topic_word_ndarray_list_vmp'][0])"
   ]
  },
  {
   "cell_type": "markdown",
   "id": "ecological-division",
   "metadata": {},
   "source": [
    "One layer up, lets see how many iterations were run in this experiment:\n"
   ]
  },
  {
   "cell_type": "code",
   "execution_count": 8,
   "id": "pressing-drove",
   "metadata": {},
   "outputs": [
    {
     "data": {
      "text/plain": [
       "1"
      ]
     },
     "execution_count": 8,
     "metadata": {},
     "output_type": "execute_result"
    }
   ],
   "source": [
    "len(experiment_group1[n_doc_list[nr]]['topic_word_ndarray_list_vmp'])"
   ]
  },
  {
   "cell_type": "markdown",
   "id": "silver-consideration",
   "metadata": {},
   "source": [
    "#### doc_topic_array_list:\n",
    "This is the document-topic analog of topic_word_ndarray_list."
   ]
  },
  {
   "cell_type": "markdown",
   "id": "front-louisville",
   "metadata": {},
   "source": [
    "Here is one of the normalized Dirichelts (for a single document)."
   ]
  },
  {
   "cell_type": "code",
   "execution_count": 9,
   "id": "front-certificate",
   "metadata": {},
   "outputs": [
    {
     "data": {
      "text/plain": [
       "array([64.46088259,  1.63772142,  6.61625183, 29.21748745,  0.51219631,\n",
       "        0.54133398,  0.51412642])"
      ]
     },
     "execution_count": 9,
     "metadata": {},
     "output_type": "execute_result"
    }
   ],
   "source": [
    "experiment_group1[n_doc_list[nr]]['doc_topic_array_list_vmp'][0][0]"
   ]
  },
  {
   "cell_type": "markdown",
   "id": "nonprofit-earth",
   "metadata": {},
   "source": [
    "By getting the length of the list we will see how many documents there are:"
   ]
  },
  {
   "cell_type": "code",
   "execution_count": 10,
   "id": "preliminary-decimal",
   "metadata": {},
   "outputs": [
    {
     "data": {
      "text/plain": [
       "100"
      ]
     },
     "execution_count": 10,
     "metadata": {},
     "output_type": "execute_result"
    }
   ],
   "source": [
    "len(experiment_group1[n_doc_list[nr]]['doc_topic_array_list_vmp'][0])"
   ]
  },
  {
   "cell_type": "markdown",
   "id": "stunning-analysis",
   "metadata": {},
   "source": [
    "#### kl_list_list:\n",
    "This contains KLD information for topic-word distributions (original vs actual). This is actually computed on the fly (making everything a lot slower BUT allowing us to show convergence plots)."
   ]
  },
  {
   "cell_type": "markdown",
   "id": "liquid-target",
   "metadata": {},
   "source": [
    "One per iteration and this is how many iterations there were:"
   ]
  },
  {
   "cell_type": "code",
   "execution_count": 11,
   "id": "prerequisite-validity",
   "metadata": {},
   "outputs": [
    {
     "data": {
      "text/plain": [
       "1"
      ]
     },
     "execution_count": 11,
     "metadata": {},
     "output_type": "execute_result"
    }
   ],
   "source": [
    "len(experiment_group1[n_doc_list[nr]]['kl_list_list_vmp'])"
   ]
  },
  {
   "cell_type": "markdown",
   "id": "deluxe-mechanism",
   "metadata": {},
   "source": [
    "One per epoch and this is how many epochs there were:"
   ]
  },
  {
   "cell_type": "code",
   "execution_count": 12,
   "id": "turkish-majority",
   "metadata": {},
   "outputs": [
    {
     "data": {
      "text/plain": [
       "100"
      ]
     },
     "execution_count": 12,
     "metadata": {},
     "output_type": "execute_result"
    }
   ],
   "source": [
    "len(experiment_group1[n_doc_list[nr]]['kl_list_list_vmp'][0])"
   ]
  },
  {
   "cell_type": "markdown",
   "id": "enormous-albuquerque",
   "metadata": {},
   "source": [
    "This is the average KLD over all topics for the first and then last epoch of one of the iterations: "
   ]
  },
  {
   "cell_type": "code",
   "execution_count": 13,
   "id": "split-scholar",
   "metadata": {},
   "outputs": [
    {
     "name": "stdout",
     "output_type": "stream",
     "text": [
      "First epoch:  1.9028219727160114 vs last epoch:  0.0729458681342521\n"
     ]
    }
   ],
   "source": [
    "print(\"First epoch: \", experiment_group1[n_doc_list[nr]]['kl_list_list_vmp'][0][0], \"vs last epoch: \", experiment_group1[n_doc_list[nr]]['kl_list_list_vmp'][0][-1])"
   ]
  },
  {
   "cell_type": "markdown",
   "id": "egyptian-pizza",
   "metadata": {},
   "source": [
    "We can now plot these guys nicely where each line shows a converence plot for one epoch."
   ]
  },
  {
   "cell_type": "code",
   "execution_count": 14,
   "id": "disabled-stationery",
   "metadata": {},
   "outputs": [
    {
     "data": {
      "text/plain": [
       "Text(0.02, 0.35, 'Average KLD')"
      ]
     },
     "execution_count": 14,
     "metadata": {},
     "output_type": "execute_result"
    },
    {
     "data": {
      "image/png": "[encoded data removed]",
      "text/plain": [
       "<Figure size 432x288 with 1 Axes>"
      ]
     },
     "metadata": {
      "needs_background": "light"
     },
     "output_type": "display_data"
    }
   ],
   "source": [
    "plt.figure()\n",
    "for i in range(1):\n",
    "    plt.plot(range(len(experiment_group1[n_doc_list[nr]][\"kl_list_list_vmp\"][i])), experiment_group1[n_doc_list[nr]][\"kl_list_list_vmp\"][i], 'r', alpha=0.22)\n",
    "plt.figtext(0.45, 0.01, r'Epochs', fontdict={'fontsize': 15})\n",
    "plt.figtext(0.02, 0.35, r'Average KLD', fontdict={'fontsize': 15}, rotation=90)\n",
    "# plt.show()\n"
   ]
  },
  {
   "cell_type": "markdown",
   "id": "seventh-munich",
   "metadata": {},
   "source": [
    "## ALBU results"
   ]
  },
  {
   "cell_type": "markdown",
   "id": "commercial-resident",
   "metadata": {},
   "source": [
    "Here we will follow the same process as for topic_word_ndarray_list (VMP / Gensim):"
   ]
  },
  {
   "cell_type": "code",
   "execution_count": 15,
   "id": "shaped-sport",
   "metadata": {},
   "outputs": [
    {
     "data": {
      "text/plain": [
       "7"
      ]
     },
     "execution_count": 15,
     "metadata": {},
     "output_type": "execute_result"
    }
   ],
   "source": [
    "len(experiment_group1[n_doc_list[nr]]['kl_words_in_topics_actual_list'][0])"
   ]
  },
  {
   "cell_type": "code",
   "execution_count": 16,
   "id": "crazy-measure",
   "metadata": {},
   "outputs": [
    {
     "data": {
      "text/plain": [
       "105"
      ]
     },
     "execution_count": 16,
     "metadata": {},
     "output_type": "execute_result"
    }
   ],
   "source": [
    "len(experiment_group1[n_doc_list[nr]]['kl_words_in_topics_actual_list'][0][0])"
   ]
  },
  {
   "cell_type": "code",
   "execution_count": 25,
   "id": "second-system",
   "metadata": {},
   "outputs": [
    {
     "data": {
      "text/plain": [
       "[0.242236,\n",
       " 0.196849,\n",
       " 0.2052,\n",
       " 0.175545,\n",
       " 0.235928,\n",
       " 0.323982,\n",
       " 0.230186,\n",
       " 0.145531,\n",
       " 0.12162,\n",
       " 0.167877]"
      ]
     },
     "execution_count": 25,
     "metadata": {},
     "output_type": "execute_result"
    }
   ],
   "source": [
    "experiment_group1[n_doc_list[nr]]['kl_words_in_topics_actual_list'][0][0][0:10]"
   ]
  },
  {
   "cell_type": "markdown",
   "id": "optional-lingerie",
   "metadata": {},
   "source": [
    "kl_words_in_topics is the ground truth Dirichelts from the topics and documents have been generated. We use this guy when plotting the topics and also when calculating KLD. It works the same as kl_words_in_topics_actual_list but isnt a list since there is only one set of ground truth distributions for all the documents."
   ]
  },
  {
   "cell_type": "code",
   "execution_count": 18,
   "id": "classical-characterization",
   "metadata": {},
   "outputs": [
    {
     "data": {
      "text/plain": [
       "[0.0,\n",
       " 0.0,\n",
       " 0.0,\n",
       " 0.000737613,\n",
       " 0.00151538,\n",
       " 0.00293898,\n",
       " 0.00538095,\n",
       " 0.00930046,\n",
       " 0.0151752,\n",
       " 0.0233749]"
      ]
     },
     "execution_count": 18,
     "metadata": {},
     "output_type": "execute_result"
    }
   ],
   "source": [
    "experiment_group1[n_doc_list[nr]]['kl_words_in_topics'][0][0:10]"
   ]
  },
  {
   "cell_type": "code",
   "execution_count": 19,
   "id": "requested-creativity",
   "metadata": {},
   "outputs": [
    {
     "data": {
      "image/png": "[encoded data removed]",
      "text/plain": [
       "<Figure size 432x288 with 1 Axes>"
      ]
     },
     "metadata": {
      "needs_background": "light"
     },
     "output_type": "display_data"
    }
   ],
   "source": [
    "\n",
    "for i in range(30):\n",
    "    plt.plot(range(len(experiment_group1[n_doc_list[nr]][\"kl_list_list\"][i])), experiment_group1[n_doc_list[nr]][\"kl_list_list\"][i], 'g', alpha=0.22)\n",
    "for i in range(1):\n",
    "    plt.plot(range(len(experiment_group1[n_doc_list[nr]][\"kl_list_list_vmp\"][i])), experiment_group1[n_doc_list[nr]][\"kl_list_list_vmp\"][i], 'r', alpha=0.22)\n",
    "plt.figtext(0.45, 0.01, r'Epochs', fontdict={'fontsize': 15})\n",
    "plt.figtext(0.02, 0.35, r'Average KLD', fontdict={'fontsize': 15}, rotation=90)\n",
    "plt.show()\n"
   ]
  },
  {
   "cell_type": "markdown",
   "id": "laden-lecture",
   "metadata": {},
   "source": [
    "Lets check the priors:"
   ]
  },
  {
   "cell_type": "code",
   "execution_count": 20,
   "id": "massive-booking",
   "metadata": {},
   "outputs": [
    {
     "name": "stdout",
     "output_type": "stream",
     "text": [
      "ALBU: 0.1\n",
      "VMP: 0.1\n"
     ]
    }
   ],
   "source": [
    "print(\"ALBU:\", experiment_group1[n_doc_list[nr]][\"default_betas_word_topic\"])\n",
    "print(\"VMP:\", experiment_group1[n_doc_list[nr]][\"default_betas_word_topic_vmp\"])"
   ]
  },
  {
   "cell_type": "raw",
   "id": "ongoing-institute",
   "metadata": {},
   "source": [
    "With ALBU we actually save ALL the topic-word Dirichlets too like this:"
   ]
  },
  {
   "cell_type": "code",
   "execution_count": 24,
   "id": "dried-absence",
   "metadata": {},
   "outputs": [
    {
     "data": {
      "text/plain": [
       "[12.8113,\n",
       " 10.1014,\n",
       " 5.95571,\n",
       " 5.9587,\n",
       " 3.5285,\n",
       " 2.95705,\n",
       " 2.81378,\n",
       " 2.67107,\n",
       " 4.38412,\n",
       " 5.38553]"
      ]
     },
     "execution_count": 24,
     "metadata": {},
     "output_type": "execute_result"
    }
   ],
   "source": [
    "experiment_group1[n_doc_list[nr]][\"dirichelt_list_list\"][0][0][0][0:10]"
   ]
  }
 ],
 "metadata": {
  "kernelspec": {
   "display_name": "Python 3",
   "language": "python",
   "name": "python3"
  },
  "language_info": {
   "codemirror_mode": {
    "name": "ipython",
    "version": 3
   },
   "file_extension": ".py",
   "mimetype": "text/x-python",
   "name": "python",
   "nbconvert_exporter": "python",
   "pygments_lexer": "ipython3",
   "version": "3.7.9"
  }
 },
 "nbformat": 4,
 "nbformat_minor": 5
}
